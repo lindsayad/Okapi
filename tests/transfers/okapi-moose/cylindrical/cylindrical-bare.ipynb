{
 "cells": [
  {
   "cell_type": "code",
   "execution_count": 16,
   "metadata": {},
   "outputs": [],
   "source": [
    "import openmc\n",
    "\n",
    "import numpy as np\n",
    "\n",
    "import matplotlib.pyplot as plt\n",
    "%matplotlib inline\n",
    "\n",
    "from series.Zernike import Zernike\n",
    "\n",
    "import math"
   ]
  },
  {
   "cell_type": "code",
   "execution_count": 4,
   "metadata": {},
   "outputs": [
    {
     "name": "stdout",
     "output_type": "stream",
     "text": [
      "10\n",
      "20\n"
     ]
    }
   ],
   "source": [
    "with openmc.StatePoint('statepoint.20.h5') as sp:\n",
    "    print(sp.n_realizations)\n",
    "    print(sp.n_batches)"
   ]
  },
  {
   "cell_type": "code",
   "execution_count": 95,
   "metadata": {},
   "outputs": [
    {
     "data": {
      "text/plain": [
       "<matplotlib.legend.Legend at 0x11cffb390>"
      ]
     },
     "execution_count": 95,
     "metadata": {},
     "output_type": "execute_result"
    },
    {
     "data": {
      "image/png": "[encoded data removed]",
      "text/plain": [
       "<Figure size 432x288 with 1 Axes>"
      ]
     },
     "metadata": {},
     "output_type": "display_data"
    }
   ],
   "source": [
    "with openmc.StatePoint('statepoint.20.h5') as sp:\n",
    "    tallies = sp.tallies\n",
    "\n",
    "kappa = tallies[1].get_slice(scores=['kappa-fission'])\n",
    "\n",
    "max_order = 0\n",
    "kappa.mean.shape = (int((max_order + 1) * (max_order + 2) / 2))\n",
    "\n",
    "zernike_list = [Zernike(order, 0, 0, 60) \n",
    "                for order in range(max_order + 1)]\n",
    "\n",
    "for order in range(max_order + 1):\n",
    "    n = (order + 1) * (order + 2) // 2\n",
    "    zernike_list[order].coefficients = kappa.mean[:n]\n",
    "\n",
    "import numpy as np\n",
    "\n",
    "r = np.linspace(0, 60, 1000)\n",
    "z_evals = [np.zeros((r.size)) for zernike in zernike_list]\n",
    "\n",
    "for r_index, radius in enumerate(r):\n",
    "    for z_index, zernike in enumerate(zernike_list):\n",
    "        z_evals[z_index][r_index] = zernike(radius, 0, \n",
    "                                            normalization=\"orthonormal\")\n",
    "\n",
    "for order, z in enumerate(z_evals):\n",
    "    if order % 2 == 0:\n",
    "        plt.plot(r, z, label=str(order))\n",
    "plt.legend()"
   ]
  },
  {
   "cell_type": "code",
   "execution_count": 88,
   "metadata": {},
   "outputs": [
    {
     "data": {
      "text/plain": [
       "[<matplotlib.lines.Line2D at 0x11d11aa90>]"
      ]
     },
     "execution_count": 88,
     "metadata": {},
     "output_type": "execute_result"
    },
    {
     "data": {
      "image/png": "[encoded data removed]",
      "text/plain": [
       "<Figure size 432x288 with 1 Axes>"
      ]
     },
     "metadata": {},
     "output_type": "display_data"
    }
   ],
   "source": [
    "rnorm = np.linspace(0, 1, 1000)\n",
    "\n",
    "integrated = np.zeros((max_order+1))\n",
    "for index, zeval in enumerate(z_evals):\n",
    "    integrated[index] = np.trapz(zeval * rnorm * 2 * math.pi, rnorm)\n",
    "plt.plot(integrated)    "
   ]
  },
  {
   "cell_type": "code",
   "execution_count": 89,
   "metadata": {},
   "outputs": [
    {
     "data": {
      "text/plain": [
       "38628340.142315626"
      ]
     },
     "execution_count": 89,
     "metadata": {},
     "output_type": "execute_result"
    }
   ],
   "source": [
    "np.trapz(z_evals[0] * rnorm * 2 * math.pi, rnorm)"
   ]
  },
  {
   "cell_type": "code",
   "execution_count": 94,
   "metadata": {},
   "outputs": [
    {
     "data": {
      "text/plain": [
       "6147891.27708462"
      ]
     },
     "execution_count": 94,
     "metadata": {},
     "output_type": "execute_result"
    }
   ],
   "source": [
    "z_evals[0][0] / 2"
   ]
  },
  {
   "cell_type": "markdown",
   "metadata": {},
   "source": [
    "It seems that as I increase the number of histories, the amount that the kappa-fission integral changes with the order decreases. This is what I would hope for. So I'm 100% confident that the reason the Exodus file in the cylindrical case differs is because a factor of 0.5 is coming from the orthornormal normalization of the Legendre."
   ]
  },
  {
   "cell_type": "code",
   "execution_count": null,
   "metadata": {},
   "outputs": [],
   "source": []
  }
 ],
 "metadata": {
  "kernelspec": {
   "display_name": "Python 3",
   "language": "python",
   "name": "python3"
  },
  "language_info": {
   "codemirror_mode": {
    "name": "ipython",
    "version": 3
   },
   "file_extension": ".py",
   "mimetype": "text/x-python",
   "name": "python",
   "nbconvert_exporter": "python",
   "pygments_lexer": "ipython3",
   "version": "3.6.4"
  }
 },
 "nbformat": 4,
 "nbformat_minor": 2
}
