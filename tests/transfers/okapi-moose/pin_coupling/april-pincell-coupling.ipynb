{
 "cells": [
  {
   "cell_type": "code",
   "execution_count": 1,
   "metadata": {},
   "outputs": [
    {
     "name": "stdout",
     "output_type": "stream",
     "text": [
      "\n",
      "                               %%%%%%%%%%%%%%%\n",
      "                          %%%%%%%%%%%%%%%%%%%%%%%%\n",
      "                       %%%%%%%%%%%%%%%%%%%%%%%%%%%%%%\n",
      "                     %%%%%%%%%%%%%%%%%%%%%%%%%%%%%%%%%%\n",
      "                   %%%%%%%%%%%%%%%%%%%%%%%%%%%%%%%%%%%%%%\n",
      "                  %%%%%%%%%%%%%%%%%%%%%%%%%%%%%%%%%%%%%%%%\n",
      "                                   %%%%%%%%%%%%%%%%%%%%%%%%\n",
      "                                    %%%%%%%%%%%%%%%%%%%%%%%%\n",
      "                ###############      %%%%%%%%%%%%%%%%%%%%%%%%\n",
      "               ##################     %%%%%%%%%%%%%%%%%%%%%%%\n",
      "               ###################     %%%%%%%%%%%%%%%%%%%%%%%\n",
      "               ####################     %%%%%%%%%%%%%%%%%%%%%%\n",
      "               #####################     %%%%%%%%%%%%%%%%%%%%%\n",
      "               ######################     %%%%%%%%%%%%%%%%%%%%\n",
      "               #######################     %%%%%%%%%%%%%%%%%%\n",
      "                #######################     %%%%%%%%%%%%%%%%%\n",
      "                ######################     %%%%%%%%%%%%%%%%%\n",
      "                 ####################     %%%%%%%%%%%%%%%%%\n",
      "                   #################     %%%%%%%%%%%%%%%%%\n",
      "                    ###############     %%%%%%%%%%%%%%%%\n",
      "                      ############     %%%%%%%%%%%%%%%\n",
      "                         ########     %%%%%%%%%%%%%%\n",
      "                                     %%%%%%%%%%%\n",
      "\n",
      "                   | The OpenMC Monte Carlo Code\n",
      "         Copyright | 2011-2018 Massachusetts Institute of Technology\n",
      "           License | http://openmc.readthedocs.io/en/latest/license.html\n",
      "           Version | 0.10.0\n",
      "          Git SHA1 | b4d0cb47eddc38759ddc04a037c1ce9a02484567\n",
      "         Date/Time | 2018-05-09 16:15:53\n",
      "     MPI Processes | 1\n",
      "    OpenMP Threads | 24\n",
      "\n",
      " Reading settings XML file...\n",
      " WARNING: Specifying a Shannon entropy mesh via the <entropy> element is\n",
      "          deprecated. Please create a mesh using <mesh> and then reference it by\n",
      "          specifying its ID in an <entropy_mesh> element.\n",
      " Reading cross sections XML file...\n",
      " Reading materials XML file...\n",
      " Reading geometry XML file...\n",
      " Building neighboring cells lists for each surface...\n",
      " Reading U235 from /Users/lindad/openmc/jeff-3.2-hdf5/U235.h5\n",
      " Reading U238 from /Users/lindad/openmc/jeff-3.2-hdf5/U238.h5\n",
      " Reading O16 from /Users/lindad/openmc/jeff-3.2-hdf5/O16.h5\n",
      " Reading O17 from /Users/lindad/openmc/jeff-3.2-hdf5/O17.h5\n",
      " Reading H1 from /Users/lindad/openmc/jeff-3.2-hdf5/H1.h5\n",
      " Reading H2 from /Users/lindad/openmc/jeff-3.2-hdf5/H2.h5\n",
      " Reading Zr90 from /Users/lindad/openmc/jeff-3.2-hdf5/Zr90.h5\n",
      " Reading Zr91 from /Users/lindad/openmc/jeff-3.2-hdf5/Zr91.h5\n",
      " Reading Zr92 from /Users/lindad/openmc/jeff-3.2-hdf5/Zr92.h5\n",
      " Reading Zr94 from /Users/lindad/openmc/jeff-3.2-hdf5/Zr94.h5\n",
      " Reading Zr96 from /Users/lindad/openmc/jeff-3.2-hdf5/Zr96.h5\n",
      " Maximum neutron transport energy: 2.00000E+07 eV for H1\n",
      " Reading tallies XML file...\n",
      " Writing summary.h5 file...\n",
      " Initializing source particles...\n",
      "\n",
      " ====================>     K EIGENVALUE SIMULATION     <====================\n",
      "\n",
      "  Bat./Gen.      k       Entropy         Average k         \n",
      "  =========   ========   ========   ====================   \n",
      "        1/1    1.25429    4.67961                       \n",
      "        2/1    1.26912    4.67505                       \n",
      "        3/1    1.23252    4.65763                       \n",
      "        4/1    1.24578    4.65530                       \n",
      "        5/1    1.25094    4.66356                       \n",
      "        6/1    1.26638    4.64667                       \n",
      "        7/1    1.24328    4.66139                       \n",
      "        8/1    1.24487    4.65581                       \n",
      "        9/1    1.23721    4.65014                       \n",
      "       10/1    1.27686    4.64821                       \n",
      "       11/1    1.24394    4.65423                       \n",
      "       12/1    1.26281    4.66142                       \n",
      "       13/1    1.24131    4.67196                       \n",
      "       14/1    1.25936    4.66371                       \n",
      "       15/1    1.23380    4.65833                       \n",
      "       16/1    1.23691    4.66752                       \n",
      "       17/1    1.26885    4.66250                       \n",
      "       18/1    1.26830    4.64694                       \n",
      "       19/1    1.24612    4.67497                       \n",
      "       20/1    1.25124    4.66100                       \n",
      "       21/1    1.26991    4.65900                       \n",
      "       22/1    1.23967    4.66299                       \n",
      "       23/1    1.26044    4.67160                       \n",
      "       24/1    1.23419    4.64463                       \n",
      "       25/1    1.26674    4.67232                       \n",
      "       26/1    1.26222    4.66107                       \n",
      "       27/1    1.24759    4.65273                       \n",
      "       28/1    1.25229    4.65620                       \n",
      "       29/1    1.25284    4.63829                       \n",
      "       30/1    1.25465    4.62967                       \n",
      "       31/1    1.24069    4.64780                       \n",
      "       32/1    1.24732    4.67056    1.24400 +/- 0.00331\n",
      "       33/1    1.24882    4.65373    1.24561 +/- 0.00250\n",
      "       34/1    1.25884    4.66796    1.24892 +/- 0.00375\n",
      "       35/1    1.28415    4.64668    1.25597 +/- 0.00762\n",
      "       36/1    1.24470    4.65664    1.25409 +/- 0.00650\n",
      "       37/1    1.24398    4.64913    1.25264 +/- 0.00568\n",
      "       38/1    1.22658    4.67400    1.24939 +/- 0.00590\n",
      "       39/1    1.26601    4.66181    1.25123 +/- 0.00552\n",
      "       40/1    1.25856    4.65952    1.25197 +/- 0.00499\n",
      "       41/1    1.26615    4.65970    1.25326 +/- 0.00470\n",
      "       42/1    1.25968    4.66112    1.25379 +/- 0.00432\n",
      "       43/1    1.26554    4.65994    1.25469 +/- 0.00408\n",
      "       44/1    1.27116    4.65029    1.25587 +/- 0.00395\n",
      "       45/1    1.25483    4.67278    1.25580 +/- 0.00368\n",
      "       46/1    1.27521    4.66277    1.25701 +/- 0.00365\n",
      "       47/1    1.25777    4.64856    1.25706 +/- 0.00343\n",
      "       48/1    1.22807    4.65388    1.25545 +/- 0.00361\n",
      "       49/1    1.25112    4.66883    1.25522 +/- 0.00342\n",
      "       50/1    1.25704    4.65648    1.25531 +/- 0.00325\n",
      "       51/1    1.24994    4.66828    1.25506 +/- 0.00310\n",
      "       52/1    1.23084    4.66297    1.25395 +/- 0.00316\n",
      "       53/1    1.26776    4.66126    1.25455 +/- 0.00307\n",
      "       54/1    1.26672    4.66426    1.25506 +/- 0.00299\n",
      "       55/1    1.25996    4.66458    1.25526 +/- 0.00287\n",
      "       56/1    1.27727    4.65841    1.25610 +/- 0.00289\n",
      "       57/1    1.25940    4.65474    1.25623 +/- 0.00278\n",
      "       58/1    1.27865    4.64989    1.25703 +/- 0.00280\n",
      "       59/1    1.25855    4.66765    1.25708 +/- 0.00270\n",
      "       60/1    1.24339    4.66525    1.25662 +/- 0.00265\n",
      "       61/1    1.24082    4.65792    1.25611 +/- 0.00261\n",
      "       62/1    1.26049    4.65448    1.25625 +/- 0.00253\n",
      "       63/1    1.27446    4.67352    1.25680 +/- 0.00251\n",
      "       64/1    1.26660    4.66568    1.25709 +/- 0.00246\n",
      "       65/1    1.24948    4.66613    1.25687 +/- 0.00239\n",
      "       66/1    1.25890    4.65756    1.25693 +/- 0.00233\n",
      "       67/1    1.26313    4.66794    1.25710 +/- 0.00227\n",
      "       68/1    1.24991    4.65477    1.25691 +/- 0.00222\n",
      "       69/1    1.26644    4.66928    1.25715 +/- 0.00217\n",
      "       70/1    1.26592    4.65264    1.25737 +/- 0.00213\n",
      "       71/1    1.25809    4.65705    1.25739 +/- 0.00208\n",
      "       72/1    1.25680    4.66067    1.25737 +/- 0.00203\n",
      "       73/1    1.25345    4.65275    1.25728 +/- 0.00198\n",
      "       74/1    1.26241    4.66900    1.25740 +/- 0.00194\n",
      "       75/1    1.24460    4.66740    1.25712 +/- 0.00192\n",
      "       76/1    1.24679    4.64470    1.25689 +/- 0.00189\n",
      "       77/1    1.27090    4.65011    1.25719 +/- 0.00187\n",
      "       78/1    1.26868    4.65817    1.25743 +/- 0.00185\n",
      "       79/1    1.24969    4.65878    1.25727 +/- 0.00182\n",
      "       80/1    1.26679    4.68255    1.25746 +/- 0.00179\n",
      " Creating state point statepoint.80.h5...\n",
      "\n",
      " =======================>     TIMING STATISTICS     <=======================\n",
      "\n",
      " Total time for initialization     =  6.4515E+00 seconds\n",
      "   Reading cross sections          =  6.3983E+00 seconds\n",
      " Total time in simulation          =  1.4065E+01 seconds\n",
      "   Time in transport only          =  1.3753E+01 seconds\n",
      "   Time in inactive batches        =  3.3725E+00 seconds\n",
      "   Time in active batches          =  1.0693E+01 seconds\n",
      "   Time synchronizing fission bank =  3.3939E-02 seconds\n",
      "     Sampling source sites         =  2.5136E-02 seconds\n",
      "     SEND/RECV source sites        =  7.7050E-03 seconds\n",
      "   Time accumulating tallies       =  3.6600E-04 seconds\n",
      " Total time for finalization       =  1.2060E-03 seconds\n",
      " Total time elapsed                =  2.0579E+01 seconds\n",
      " Calculation Rate (inactive)       =  88953.8 neutrons/second\n",
      " Calculation Rate (active)         =  46761.4 neutrons/second\n",
      "\n",
      " ============================>     RESULTS     <============================\n",
      "\n",
      " k-effective (Collision)     =  1.25617 +/-  0.00170\n",
      " k-effective (Track-length)  =  1.25746 +/-  0.00179\n",
      " k-effective (Absorption)    =  1.25426 +/-  0.00139\n",
      " Combined k-effective        =  1.25531 +/-  0.00127\n",
      " Leakage Fraction            =  0.00000 +/-  0.00000\n",
      "\n"
     ]
    }
   ],
   "source": [
    "import openmc\n",
    "\n",
    "openmc.run(openmc_exec=\"/Users/lindad/projects/Okapi/openmc/build/bin/openmc\")"
   ]
  },
  {
   "cell_type": "code",
   "execution_count": 11,
   "metadata": {},
   "outputs": [],
   "source": [
    "with openmc.StatePoint('statepoint.80.h5') as sp:\n",
    "    tallies = sp.tallies\n",
    "\n",
    "fissiont = tallies[1]\n",
    "\n",
    "from series.Zernike import Zernike\n",
    "\n",
    "z5 = Zernike(5, 0, 0, .6)\n",
    "fissiont.mean.shape = (21,)\n",
    "z5.coefficients = fissiont.mean"
   ]
  },
  {
   "cell_type": "code",
   "execution_count": 14,
   "metadata": {},
   "outputs": [
    {
     "data": {
      "text/plain": [
       "[<matplotlib.lines.Line2D at 0x129e4da20>]"
      ]
     },
     "execution_count": 14,
     "metadata": {},
     "output_type": "execute_result"
    },
    {
     "data": {
      "image/png": "[encoded data removed]",
      "text/plain": [
       "<Figure size 720x720 with 1 Axes>"
      ]
     },
     "metadata": {},
     "output_type": "display_data"
    }
   ],
   "source": [
    "import numpy as np\n",
    "import matplotlib.pyplot as plt\n",
    "%matplotlib inline\n",
    "\n",
    "r = np.linspace(-.6, .6, 1000)\n",
    "fission_eval = np.zeros((r.size))\n",
    "for index, rval in enumerate(r):\n",
    "    fission_eval[index] = z5(rval,0)\n",
    "    \n",
    "plt.rcParams['figure.figsize'] = [10, 10]\n",
    "\n",
    "plt.plot(r, fission_eval)"
   ]
  },
  {
   "cell_type": "code",
   "execution_count": 8,
   "metadata": {},
   "outputs": [
    {
     "data": {
      "text/plain": [
       "(1000,)"
      ]
     },
     "execution_count": 8,
     "metadata": {},
     "output_type": "execute_result"
    }
   ],
   "source": [
    "fission_eval.shape"
   ]
  },
  {
   "cell_type": "code",
   "execution_count": 9,
   "metadata": {},
   "outputs": [
    {
     "name": "stdout",
     "output_type": "stream",
     "text": [
      "> \u001b[0;32m/Users/lindad/projects/Okapi/moose/modules/functional_expansion_tools/python/series/Zernike.py\u001b[0m(88)\u001b[0;36minnerProduct\u001b[0;34m()\u001b[0m\n",
      "\u001b[0;32m     86 \u001b[0;31m\u001b[0;34m\u001b[0m\u001b[0m\n",
      "\u001b[0m\u001b[0;32m     87 \u001b[0;31m    \u001b[0;32mdef\u001b[0m \u001b[0minnerProduct\u001b[0m\u001b[0;34m(\u001b[0m\u001b[0mself\u001b[0m\u001b[0;34m)\u001b[0m\u001b[0;34m:\u001b[0m\u001b[0;34m\u001b[0m\u001b[0m\n",
      "\u001b[0m\u001b[0;32m---> 88 \u001b[0;31m        \u001b[0;32mreturn\u001b[0m \u001b[0mnp\u001b[0m\u001b[0;34m.\u001b[0m\u001b[0minner\u001b[0m\u001b[0;34m(\u001b[0m\u001b[0mself\u001b[0m\u001b[0;34m.\u001b[0m\u001b[0mcoefficients\u001b[0m\u001b[0;34m,\u001b[0m \u001b[0mself\u001b[0m\u001b[0;34m.\u001b[0m\u001b[0mbasis_functions\u001b[0m\u001b[0;34m)\u001b[0m\u001b[0;34m\u001b[0m\u001b[0m\n",
      "\u001b[0m\u001b[0;32m     89 \u001b[0;31m\u001b[0;34m\u001b[0m\u001b[0m\n",
      "\u001b[0m\u001b[0;32m     90 \u001b[0;31m    \u001b[0;32mdef\u001b[0m \u001b[0mcomputeTen\u001b[0m\u001b[0;34m(\u001b[0m\u001b[0mself\u001b[0m\u001b[0;34m)\u001b[0m\u001b[0;34m:\u001b[0m\u001b[0;34m\u001b[0m\u001b[0m\n",
      "\u001b[0m\n",
      "ipdb> p self.coefficients\n",
      "array([[[ 9.94683963e+07]],\n",
      "\n",
      "       [[ 6.33452153e+04]],\n",
      "\n",
      "       [[-6.29466588e+04]],\n",
      "\n",
      "       [[-2.65347961e+03]],\n",
      "\n",
      "       [[-1.42100854e+08]],\n",
      "\n",
      "       [[-3.29687541e+03]],\n",
      "\n",
      "       [[ 4.23782649e+03]],\n",
      "\n",
      "       [[-1.43762127e+05]],\n",
      "\n",
      "       [[ 1.49398670e+05]],\n",
      "\n",
      "       [[-1.09297733e+03]],\n",
      "\n",
      "       [[ 3.83951395e+03]],\n",
      "\n",
      "       [[ 1.31704134e+04]],\n",
      "\n",
      "       [[ 1.19109463e+08]],\n",
      "\n",
      "       [[ 1.13020817e+04]],\n",
      "\n",
      "       [[-7.44447634e+02]],\n",
      "\n",
      "       [[ 3.35576616e+02]],\n",
      "\n",
      "       [[-1.73229098e+04]],\n",
      "\n",
      "       [[ 1.74275827e+05]],\n",
      "\n",
      "       [[-2.00750416e+05]],\n",
      "\n",
      "       [[ 3.81463007e+03]],\n",
      "\n",
      "       [[ 1.60238805e+03]]])\n",
      "ipdb> p self.coefficients.shape\n",
      "(21, 1, 1)\n",
      "ipdb> p self.basis_functions.shape\n",
      "(21,)\n",
      "ipdb> quit\n"
     ]
    }
   ],
   "source": [
    "%debug"
   ]
  },
  {
   "cell_type": "code",
   "execution_count": 10,
   "metadata": {},
   "outputs": [
    {
     "data": {
      "text/plain": [
       "(21, 1, 1)"
      ]
     },
     "execution_count": 10,
     "metadata": {},
     "output_type": "execute_result"
    }
   ],
   "source": [
    "fissiont.mean.shape"
   ]
  },
  {
   "cell_type": "code",
   "execution_count": null,
   "metadata": {},
   "outputs": [],
   "source": []
  }
 ],
 "metadata": {
  "kernelspec": {
   "display_name": "Python 3",
   "language": "python",
   "name": "python3"
  },
  "language_info": {
   "codemirror_mode": {
    "name": "ipython",
    "version": 3
   },
   "file_extension": ".py",
   "mimetype": "text/x-python",
   "name": "python",
   "nbconvert_exporter": "python",
   "pygments_lexer": "ipython3",
   "version": "3.6.4"
  }
 },
 "nbformat": 4,
 "nbformat_minor": 2
}
